{
 "cells": [
  {
   "cell_type": "code",
   "execution_count": 9,
   "metadata": {},
   "outputs": [],
   "source": [
    "import logging \n"
   ]
  },
  {
   "cell_type": "code",
   "execution_count": 10,
   "metadata": {},
   "outputs": [],
   "source": [
    "class logger:\n",
    "    \n",
    "    def __init__(self):\n",
    "        pass\n",
    "   \n",
    "    \n",
    "    def log(self,filename = 'application.log', level = logging.DEBUG):\n",
    "        \n",
    "        logger = logging.getLogger()\n",
    "        logger.setLevel(level)\n",
    "        \n",
    "        # Create handlers\n",
    "        c_handler = logging.StreamHandler()\n",
    "        f_handler = logging.FileHandler(filename,mode = 'w+')\n",
    "\n",
    "        # Create formatters and add it to handlers\n",
    "        c_format = logging.Formatter('%(name)s - %(levelname)s - %(message)s')\n",
    "        f_format = logging.Formatter('%(asctime)s - %(name)s - %(levelname)s - %(message)s')\n",
    "        \n",
    "        c_handler.setFormatter(c_format)\n",
    "        f_handler.setFormatter(f_format)\n",
    "        \n",
    "        # Add handlers to the logger\n",
    "        logger.addHandler(c_handler)\n",
    "        logger.addHandler(f_handler)\n",
    "        \n",
    "        return logger\n",
    "        \n",
    "  "
   ]
  },
  {
   "cell_type": "code",
   "execution_count": null,
   "metadata": {},
   "outputs": [],
   "source": [
    "#mylogger = logger()\n",
    "#logging_data = mylogger.log(\"sqllite.log\",logging.DEBUG)\n",
    "#logging_data.info(\"asdfa This is info asdfa\")\n"
   ]
  }
 ],
 "metadata": {
  "kernelspec": {
   "display_name": "Python 3",
   "language": "python",
   "name": "python3"
  },
  "language_info": {
   "codemirror_mode": {
    "name": "ipython",
    "version": 3
   },
   "file_extension": ".py",
   "mimetype": "text/x-python",
   "name": "python",
   "nbconvert_exporter": "python",
   "pygments_lexer": "ipython3",
   "version": "3.7.6"
  }
 },
 "nbformat": 4,
 "nbformat_minor": 4
}
