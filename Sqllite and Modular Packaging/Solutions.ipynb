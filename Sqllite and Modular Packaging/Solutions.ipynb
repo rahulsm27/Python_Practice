{
 "cells": [
  {
   "cell_type": "code",
   "execution_count": 1,
   "metadata": {},
   "outputs": [],
   "source": [
    "\n",
    "class solutions:\n",
    "    \n",
    "    from Custom_Logger import logger\n",
    "    mylogger = logger()\n",
    "    log = mylogger.log()\n",
    "    \n",
    "\n",
    "    def returnwordtuple(self, filename):\n",
    "        try:\n",
    "            file = open(filename,'r')\n",
    "            dict1 = {}\n",
    "            self.log.info(\"Reading file data\")\n",
    "            for line in file.readlines():\n",
    "                if line in dict1:\n",
    "                    dict1[line] = dict1[line]+1\n",
    "                else:\n",
    "                    dict1[line[:-1]] = 1\n",
    "        except Exception as e:\n",
    "            self.log.error(f\"Error in reading file data {e}\")\n",
    "          #  print(\"errror\",e)\n",
    "            \n",
    "            \n",
    "\n",
    "        final_list = [(k,v) for k,v in dict1.items()]\n",
    "\n",
    "        return final_list\n",
    "    \n",
    "    def reducewords(self,data_list):\n",
    "        try :\n",
    "            from functools import reduce\n",
    "\n",
    "            temp = [{}]\n",
    "            temp.extend(data_list)\n",
    "\n",
    "            self.log.info(\"Reducing file content\")\n",
    "            def finda(a,b):\n",
    "                if b[0][0]  in a:\n",
    "                    a[b[0][0]] += 1\n",
    "                else:\n",
    "                    a[b[0][0]] = 1\n",
    "                return a\n",
    "            return(reduce(finda,temp))\n",
    "        \n",
    "        except Exception as e:\n",
    "            self.log.error (f\"Error occured in reduing {e}\")\n",
    "        \n",
    "        \n",
    "    \n",
    "    def filterwords(self, filename):\n",
    "        try :\n",
    "            import regex as re\n",
    "            f = open(filename,'r')\n",
    "            finallist = []\n",
    "            pattern = '[A-za-z]+'\n",
    "            self.log.info(\"Filtering file contents\")\n",
    "            for lines in f.readlines():\n",
    "                word = lines[:-1] # removing \\n\n",
    "                word = re.findall(pattern,word)\n",
    "                if word :\n",
    "                    finallist.extend(word)\n",
    "        except Exception as e:\n",
    "             self.log.error (f\"Erro occured in filtering words {e}\")\n",
    "            \n",
    "        return finallist"
   ]
  },
  {
   "cell_type": "code",
   "execution_count": null,
   "metadata": {},
   "outputs": [],
   "source": []
  },
  {
   "cell_type": "code",
   "execution_count": 2,
   "metadata": {},
   "outputs": [],
   "source": [
    "#s = solutions()"
   ]
  },
  {
   "cell_type": "code",
   "execution_count": 3,
   "metadata": {},
   "outputs": [],
   "source": [
    "#s.filterwords('vocab.pubmed.txt')"
   ]
  },
  {
   "cell_type": "code",
   "execution_count": 12,
   "metadata": {},
   "outputs": [],
   "source": [
    "#s.returnwordtuple('vocab.pubmeadfd.txt')"
   ]
  },
  {
   "cell_type": "code",
   "execution_count": null,
   "metadata": {},
   "outputs": [],
   "source": []
  },
  {
   "cell_type": "code",
   "execution_count": null,
   "metadata": {},
   "outputs": [],
   "source": []
  }
 ],
 "metadata": {
  "kernelspec": {
   "display_name": "Python 3",
   "language": "python",
   "name": "python3"
  },
  "language_info": {
   "codemirror_mode": {
    "name": "ipython",
    "version": 3
   },
   "file_extension": ".py",
   "mimetype": "text/x-python",
   "name": "python",
   "nbconvert_exporter": "python",
   "pygments_lexer": "ipython3",
   "version": "3.7.6"
  }
 },
 "nbformat": 4,
 "nbformat_minor": 4
}
