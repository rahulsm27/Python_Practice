{
 "cells": [
  {
   "cell_type": "code",
   "execution_count": 1,
   "metadata": {},
   "outputs": [],
   "source": [
    "class sqlops:\n",
    "    \n",
    "  \n",
    "    \n",
    "    \n",
    "    \n",
    "    from Custom_Logger import logger\n",
    "    mylogger = logger()\n",
    "    log = mylogger.log('sqlops.log')\n",
    "    \n",
    "    def __init__(self):\n",
    "        import sqlite3\n",
    "        self.db = sqlite3.connect(\"task.db\")\n",
    "        self.c = self.db.cursor()\n",
    "    \n",
    "    def createtable(self, table):\n",
    "        try:\n",
    "            self.log.info(f\"Creating table {table}\")\n",
    "            self.c.execute(f\"create table if not exists {table}(name text)\")\n",
    "            \n",
    "        except Exception as e:\n",
    "            self.log.error(f\"error in creating table {e}\")\n",
    "            \n",
    "    def insertrecord(self, table, data_list):\n",
    "        try:\n",
    "            self.log.info(\"Inserting data\")\n",
    "            \n",
    "            for i in data_list:\n",
    "                query = \"('\" + i[0]+\"')\"\n",
    "                self.c.execute(f\"insert into {table} values {query}\")\n",
    "                print (query)\n",
    "                \n",
    "            self.c.execute(\"commit\")\n",
    "                \n",
    "            \n",
    "            \n",
    "        except Exception as e:\n",
    "            self.log.error(f\"error in inserting data table {e} insert into {table} values {query}\")\n",
    "            \n",
    "    def fetchdata(self, table):\n",
    "        try:\n",
    "            self.log.info(\"fetching data\")\n",
    "            \n",
    "            \n",
    "                \n",
    "            return  self.c.execute(f\"select * from {table}\")\n",
    "                \n",
    "            \n",
    "            \n",
    "        except Exception as e:\n",
    "            self.log.error(f\"error in fetching data table {e}\")\n",
    "    "
   ]
  },
  {
   "cell_type": "code",
   "execution_count": 2,
   "metadata": {},
   "outputs": [],
   "source": [
    "#sql = sqlops()"
   ]
  },
  {
   "cell_type": "code",
   "execution_count": 3,
   "metadata": {},
   "outputs": [
    {
     "name": "stderr",
     "output_type": "stream",
     "text": [
      "root - INFO - Creating table test\n"
     ]
    }
   ],
   "source": [
    "#sql.createtable('test')"
   ]
  },
  {
   "cell_type": "code",
   "execution_count": 4,
   "metadata": {},
   "outputs": [
    {
     "name": "stderr",
     "output_type": "stream",
     "text": [
      "root - INFO - Inserting data\n"
     ]
    },
    {
     "name": "stdout",
     "output_type": "stream",
     "text": [
      "('aaa')\n"
     ]
    }
   ],
   "source": [
    "#sql.insertrecord('test',[('aaa',1)])"
   ]
  },
  {
   "cell_type": "code",
   "execution_count": 5,
   "metadata": {},
   "outputs": [
    {
     "name": "stderr",
     "output_type": "stream",
     "text": [
      "root - INFO - fetching data\n"
     ]
    }
   ],
   "source": [
    "#data = sql.fetchdata('test')"
   ]
  },
  {
   "cell_type": "code",
   "execution_count": 27,
   "metadata": {},
   "outputs": [
    {
     "data": {
      "text/plain": [
       "[('aaa',), ('aaa',), ('aaa',), ('aaa',), ('aaa',)]"
      ]
     },
     "execution_count": 27,
     "metadata": {},
     "output_type": "execute_result"
    }
   ],
   "source": [
    "#data.fetchall()"
   ]
  },
  {
   "cell_type": "code",
   "execution_count": null,
   "metadata": {},
   "outputs": [],
   "source": []
  }
 ],
 "metadata": {
  "kernelspec": {
   "display_name": "Python 3",
   "language": "python",
   "name": "python3"
  },
  "language_info": {
   "codemirror_mode": {
    "name": "ipython",
    "version": 3
   },
   "file_extension": ".py",
   "mimetype": "text/x-python",
   "name": "python",
   "nbconvert_exporter": "python",
   "pygments_lexer": "ipython3",
   "version": "3.7.6"
  }
 },
 "nbformat": 4,
 "nbformat_minor": 4
}
