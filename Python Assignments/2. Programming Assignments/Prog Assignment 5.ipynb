{
 "cells": [
  {
   "cell_type": "code",
   "execution_count": 2,
   "metadata": {},
   "outputs": [],
   "source": [
    "# 1. Write a Python Program to Find LCM?\n",
    "# 2. Write a Python Program to Find HCF?\n",
    "# 3. Write a Python Program to Convert Decimal to Binary, Octal and Hexadecimal?\n",
    "# 4. Write a Python Program To Find ASCII value of a character?\n",
    "# 5. Write a Python Program to Make a Simple Calculator with 4 basic mathematical operations?\n"
   ]
  },
  {
   "cell_type": "code",
   "execution_count": 14,
   "metadata": {},
   "outputs": [
    {
     "name": "stdout",
     "output_type": "stream",
     "text": [
      "Enter number1 : 7\n",
      "Enter number2 : 3\n",
      "The LCM of 7 and 3 is 21.0 \n"
     ]
    }
   ],
   "source": [
    "# Task 1\n",
    "\n",
    "def gcd(a,b):\n",
    "    if b == 0:\n",
    "        return a\n",
    "    else:\n",
    "        return gcd(b, a%b)\n",
    "\n",
    "\n",
    "def lcm(a,b):\n",
    "    \n",
    "    if a>b:\n",
    "        HCF = gcd(a,b)\n",
    "    else:\n",
    "        HCF  =gcd(b,a)\n",
    "    \n",
    "    return a*b/HCF\n",
    "\n",
    "a = int(input (\"Enter number1 : \"))\n",
    "b = int(input (\"Enter number2 : \"))\n",
    "ans = lcm(a,b)\n",
    "\n",
    "print (f\"The LCM of {a} and {b} is {ans} \")\n",
    "\n",
    "\n",
    "\n",
    "    \n",
    "    \n",
    "\n",
    "    \n",
    "    \n"
   ]
  },
  {
   "cell_type": "code",
   "execution_count": 15,
   "metadata": {},
   "outputs": [
    {
     "name": "stdout",
     "output_type": "stream",
     "text": [
      "Enter number1 : 7\n",
      "Enter number2 : 8\n",
      "The HCF of 7 and 8 is 1 \n"
     ]
    }
   ],
   "source": [
    "# Task 2\n",
    "\n",
    "\n",
    "\n",
    "def gcd(a,b):\n",
    "    if b == 0:\n",
    "        return a\n",
    "    else:\n",
    "        return gcd(b, a%b)\n",
    "\n",
    "\n",
    "\n",
    "\n",
    "a = int(input (\"Enter number1 : \"))\n",
    "b = int(input (\"Enter number2 : \"))\n",
    "ans = gcd(a,b)\n",
    "\n",
    "print (f\"The HCF of {a} and {b} is {ans} \")\n",
    "\n",
    "\n"
   ]
  },
  {
   "cell_type": "code",
   "execution_count": 48,
   "metadata": {},
   "outputs": [
    {
     "name": "stdout",
     "output_type": "stream",
     "text": [
      "Enter number : 90\n",
      "The number 90 in binary is 1011010, in octa is 132 and hexa is 5A\n"
     ]
    }
   ],
   "source": [
    "# Task 3:\n",
    "\n",
    "d ={0:0,1:1,2:2,3:3,4:4,5:5,6:6,7:7,8:8,9:9,10:'A',11:'B',12:'C',13:'D',14:'E',15:'F'}\n",
    "#Binary\n",
    "\n",
    "a = int(input (\"Enter number : \"))\n",
    "ans = ''\n",
    "\n",
    "def convert(a,base):\n",
    "    ans =''\n",
    "    if a<base:\n",
    "        ans = str(a)\n",
    "    else :\n",
    "        while (a//base != 0):\n",
    "            ans = ans + str(d[a%base])\n",
    "            a = a//base\n",
    "        else:\n",
    "            \n",
    "            ans = ans + str(a)\n",
    "    return ans[::-1]\n",
    "    \n",
    "binary = convert(a,2)\n",
    "octa = convert(a,8)\n",
    "hexa = convert(a,16)\n",
    "\n",
    "\n",
    "print(f\"The number {a} in binary is {binary}, in octa is {octa} and hexa is {hexa}\")\n"
   ]
  },
  {
   "cell_type": "code",
   "execution_count": 51,
   "metadata": {},
   "outputs": [
    {
     "name": "stdout",
     "output_type": "stream",
     "text": [
      "Enter single character : c\n",
      "The ACII value of c is  99\n"
     ]
    }
   ],
   "source": [
    "# Task 4\n",
    "\n",
    "a = input (\"Enter single character : \")\n",
    "\n",
    "print(f\"The ACII value of {a} is \", ord(a))"
   ]
  },
  {
   "cell_type": "code",
   "execution_count": 56,
   "metadata": {},
   "outputs": [
    {
     "name": "stdout",
     "output_type": "stream",
     "text": [
      " 1. Addition \n",
      " 2. Subtraction \n",
      " 3. Multiplication \n",
      " 4. Division\n",
      "Enter opration number :1\n",
      "Enter  number 1 :23\n",
      "Enter  number 2 :45.2\n",
      "The solution is 68.2\n"
     ]
    }
   ],
   "source": [
    "# 5\n",
    "\n",
    "def calc(x,y,operation):\n",
    "    if operation == 1:\n",
    "        return x+y\n",
    "    elif operation == 2:\n",
    "        return x-y\n",
    "    elif operation == 3:\n",
    "        return x*y\n",
    "    elif operation == 4:\n",
    "        return x/y\n",
    "    else:\n",
    "        pass\n",
    "    \n",
    "    \n",
    "print(\" 1. Addition \\n 2. Subtraction \\n 3. Multiplication \\n 4. Division\")\n",
    "\n",
    "a = int(input(\"Enter opration number :\"))\n",
    "\n",
    "num1 = float(input(\"Enter  number 1 :\"))\n",
    "num2 = float(input(\"Enter  number 2 :\"))\n",
    "    \n",
    "ans = calc(num1,num2,a)\n",
    "\n",
    "print(f\"The solution is {ans}\")\n",
    "\n",
    "    "
   ]
  },
  {
   "cell_type": "code",
   "execution_count": null,
   "metadata": {},
   "outputs": [],
   "source": []
  },
  {
   "cell_type": "code",
   "execution_count": null,
   "metadata": {},
   "outputs": [],
   "source": []
  }
 ],
 "metadata": {
  "kernelspec": {
   "display_name": "Python 3",
   "language": "python",
   "name": "python3"
  },
  "language_info": {
   "codemirror_mode": {
    "name": "ipython",
    "version": 3
   },
   "file_extension": ".py",
   "mimetype": "text/x-python",
   "name": "python",
   "nbconvert_exporter": "python",
   "pygments_lexer": "ipython3",
   "version": "3.7.6"
  }
 },
 "nbformat": 4,
 "nbformat_minor": 4
}
