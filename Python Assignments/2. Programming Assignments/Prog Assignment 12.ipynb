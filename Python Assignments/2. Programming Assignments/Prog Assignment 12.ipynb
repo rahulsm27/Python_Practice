{
 "cells": [
  {
   "cell_type": "code",
   "execution_count": 60,
   "metadata": {},
   "outputs": [],
   "source": [
    "# 1.\tWrite a Python program to Extract Unique values dictionary values?\n",
    "# 2.\t Write a Python program to find the sum of all items in a dictionary?\n",
    "# 3.\tWrite a Python program to Merging two Dictionaries?\n",
    "# 4.\tWrite a Python program to convert key-values list to flat dictionary?\n",
    "# 5.\tWrite a Python program to insertion at the beginning in OrderedDict?\n",
    "# 6.\tWrite a Python program to check order of character in string using OrderedDict()?\n",
    "# 7.\tWrite a Python program to sort Python Dictionaries by Key or Value?\n"
   ]
  },
  {
   "cell_type": "code",
   "execution_count": 5,
   "metadata": {},
   "outputs": [
    {
     "data": {
      "text/plain": [
       "[1, 2, 3, 4, 5, 6, 7, 8, 10, 12]"
      ]
     },
     "execution_count": 5,
     "metadata": {},
     "output_type": "execute_result"
    }
   ],
   "source": [
    "#1\n",
    "d1 = {'A' : [1, 3, 5, 4],'B' : [4, 6, 8, 10],'C' : [6, 12, 4 ,8],'D' : [5, 7, 2]}\n",
    "\n",
    "list(set(elements for values in d1.values() for elements in values ))"
   ]
  },
  {
   "cell_type": "code",
   "execution_count": 13,
   "metadata": {},
   "outputs": [
    {
     "data": {
      "text/plain": [
       "1600"
      ]
     },
     "execution_count": 13,
     "metadata": {},
     "output_type": "execute_result"
    }
   ],
   "source": [
    "#2\n",
    "d2 = {\"A\" : 200, \"B\" : 400, \"C\" : 1000}\n",
    "\n",
    "sum([values for values in d2.values()])\n"
   ]
  },
  {
   "cell_type": "code",
   "execution_count": 16,
   "metadata": {},
   "outputs": [
    {
     "name": "stdout",
     "output_type": "stream",
     "text": [
      "{1: 'a', 2: 'c', 4: 'd'}\n"
     ]
    }
   ],
   "source": [
    "#3\n",
    "\n",
    "dict_1 = {1: 'a', 2: 'b'}\n",
    "dict_2 = {2: 'c', 4: 'd'}\n",
    "\n",
    "ans = {**dict_1,**dict_2}\n",
    "print(ans)"
   ]
  },
  {
   "cell_type": "code",
   "execution_count": 29,
   "metadata": {},
   "outputs": [],
   "source": [
    "#4\n",
    "d1 = {'month' :['Jan','Feb','March'], 'index' :[1,2,3]}\n",
    "\n",
    "s = dict(zip(d1['month'],d1['index']))"
   ]
  },
  {
   "cell_type": "code",
   "execution_count": 69,
   "metadata": {},
   "outputs": [
    {
     "data": {
      "text/plain": [
       "OrderedDict([('zebra', 4), ('apple', 1), ('dog', 2), ('cat', 3)])"
      ]
     },
     "execution_count": 69,
     "metadata": {},
     "output_type": "execute_result"
    }
   ],
   "source": [
    "#5\n",
    "\n",
    "from collections import OrderedDict\n",
    "\n",
    "d1= {'apple': 1, 'dog':2,'cat':3}\n",
    "\n",
    "my_ordered = OrderedDict(d1)\n",
    "my_ordered.update({'zebra': 4})\n",
    "my_ordered.move_to_end('zebra',last = False)\n",
    "my_ordered\n"
   ]
  },
  {
   "cell_type": "code",
   "execution_count": 73,
   "metadata": {},
   "outputs": [
    {
     "data": {
      "text/plain": [
       "False"
      ]
     },
     "execution_count": 73,
     "metadata": {},
     "output_type": "execute_result"
    }
   ],
   "source": [
    "#6\n",
    "string1 = 'This a test for the pattern'\n",
    "pattern ='sastz'\n",
    "\n",
    "def check(string1,pattern):\n",
    "    l = 0\n",
    "    flag = False\n",
    "    for i in string1:\n",
    "        if i == pattern[l]:\n",
    "            l = l+1\n",
    "        \n",
    "        if l == len(pattern):\n",
    "            flag  = True\n",
    "            break\n",
    "    return flag\n",
    "\n",
    "\n",
    "check(string1,pattern)\n",
    "\n",
    "\n",
    "\n"
   ]
  },
  {
   "cell_type": "code",
   "execution_count": 49,
   "metadata": {},
   "outputs": [
    {
     "data": {
      "text/plain": [
       "{'AB': 20, 'AC': 30, 'AF': 70, 'DBA': 10, 'ED': 5}"
      ]
     },
     "execution_count": 49,
     "metadata": {},
     "output_type": "execute_result"
    }
   ],
   "source": [
    "\n",
    "#7\n",
    " #using values\n",
    "    \n",
    "    \n",
    "d1 ={\"A\":20,\"B\":10,\"C\":30,\"D\":5,\"F\":70,}\n",
    "key = [x for x in d1.values()]\n",
    "dict (sorted(d1.items(), key = lambda x : x[1]))\n",
    "\n",
    "\n"
   ]
  },
  {
   "cell_type": "code",
   "execution_count": 50,
   "metadata": {},
   "outputs": [
    {
     "data": {
      "text/plain": [
       "{'AB': 20, 'AC': 30, 'AF': 70, 'DBA': 10, 'ED': 5}"
      ]
     },
     "execution_count": 50,
     "metadata": {},
     "output_type": "execute_result"
    }
   ],
   "source": [
    "#using keys\n",
    "\n",
    "d2 ={\"AB\":20,\"DBA\":10,\"AC\":30,\"ED\":5,\"AF\":70,}\n",
    "key = [x for x in d1.values()]\n",
    "dict (sorted(d2.items(), key = lambda x : x[0]))"
   ]
  },
  {
   "cell_type": "code",
   "execution_count": null,
   "metadata": {},
   "outputs": [],
   "source": []
  },
  {
   "cell_type": "code",
   "execution_count": null,
   "metadata": {},
   "outputs": [],
   "source": []
  },
  {
   "cell_type": "code",
   "execution_count": null,
   "metadata": {},
   "outputs": [],
   "source": []
  }
 ],
 "metadata": {
  "kernelspec": {
   "display_name": "Python 3",
   "language": "python",
   "name": "python3"
  },
  "language_info": {
   "codemirror_mode": {
    "name": "ipython",
    "version": 3
   },
   "file_extension": ".py",
   "mimetype": "text/x-python",
   "name": "python",
   "nbconvert_exporter": "python",
   "pygments_lexer": "ipython3",
   "version": "3.7.6"
  }
 },
 "nbformat": 4,
 "nbformat_minor": 4
}
