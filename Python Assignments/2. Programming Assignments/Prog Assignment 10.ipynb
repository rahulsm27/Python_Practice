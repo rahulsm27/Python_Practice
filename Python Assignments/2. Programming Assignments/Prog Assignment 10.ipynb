{
 "cells": [
  {
   "cell_type": "code",
   "execution_count": 1,
   "metadata": {},
   "outputs": [],
   "source": [
    "# 1.\tWrite a Python program to find sum of elements in list?\n",
    "# 2.\tWrite a Python program to  Multiply all numbers in the list?\n",
    "# 3.\tWrite a Python program to find smallest number in a list?\n",
    "# 4.\tWrite a Python program to find largest number in a list?\n",
    "# 5.\tWrite a Python program to find second largest number in a list?\n",
    "# 6.\tWrite a Python program to find N largest elements from a list?\n",
    "# 7.\tWrite a Python program to print even numbers in a list?\n",
    "# 8.\tWrite a Python program to print odd numbers in a List?\n",
    "# 9.\tWrite a Python program to Remove empty List from List?\n",
    "# 10.\tWrite a Python program to Cloning or Copying a list?\n",
    "# 11.\tWrite a Python program to Count occurrences of an element in a list?\n"
   ]
  },
  {
   "cell_type": "code",
   "execution_count": 8,
   "metadata": {},
   "outputs": [
    {
     "name": "stdout",
     "output_type": "stream",
     "text": [
      "252\n"
     ]
    }
   ],
   "source": [
    "#1\n",
    "list_of_nos = [1,2,3,4,5,6,34,7,8,12,32,4,5,6,21,90,12]\n",
    "sum_of = 0\n",
    "\n",
    "for i in range(len(list_of_nos)):\n",
    "    sum_of = sum_of + list_of_nos[i]\n",
    "    \n",
    "print(sum_of)\n"
   ]
  },
  {
   "cell_type": "code",
   "execution_count": 12,
   "metadata": {},
   "outputs": [
    {
     "name": "stdout",
     "output_type": "stream",
     "text": [
      "72\n"
     ]
    }
   ],
   "source": [
    "#2\n",
    "list_of_nos = [1,2,3,12]\n",
    "mul_of = 1\n",
    "\n",
    "for i in range(len(list_of_nos)):\n",
    "    mul_of = mul_of * list_of_nos[i]\n",
    "    \n",
    "print(mul_of)\n"
   ]
  },
  {
   "cell_type": "code",
   "execution_count": 17,
   "metadata": {},
   "outputs": [
    {
     "name": "stdout",
     "output_type": "stream",
     "text": [
      "-3\n"
     ]
    }
   ],
   "source": [
    "# 3\n",
    "\n",
    "list_of_nos = [3,4,5,6,34,7,8,12,32,1,4,5,6,-1,21,90,12,-3]\n",
    "small = list_of_nos[0]\n",
    "\n",
    "\n",
    "for i in range(len(list_of_nos)):\n",
    "    if small <  list_of_nos[i]:\n",
    "        pass\n",
    "    else :\n",
    "        small = list_of_nos[i]\n",
    "        \n",
    "\n",
    "\n",
    "print(small)"
   ]
  },
  {
   "cell_type": "code",
   "execution_count": 18,
   "metadata": {},
   "outputs": [
    {
     "name": "stdout",
     "output_type": "stream",
     "text": [
      "90\n"
     ]
    }
   ],
   "source": [
    "#4\n",
    "\n",
    "list_of_nos = [3,4,5,6,34,7,8,12,32,1,4,5,6,-1,21,90,12,-3]\n",
    "highest = list_of_nos[0]\n",
    "\n",
    "\n",
    "for i in range(len(list_of_nos)):\n",
    "    if highest >  list_of_nos[i]:\n",
    "        pass\n",
    "    else :\n",
    "        highest = list_of_nos[i]\n",
    "        \n",
    "\n",
    "\n",
    "print(highest)"
   ]
  },
  {
   "cell_type": "code",
   "execution_count": 3,
   "metadata": {},
   "outputs": [
    {
     "name": "stdout",
     "output_type": "stream",
     "text": [
      "The second highest number is 34\n"
     ]
    }
   ],
   "source": [
    "# 5\n",
    "\n",
    "list_of_nos = [3,4,5,6,34,7,8,12,32,1,4,5,6,-1,21,90,12,-3]\n",
    "\n",
    "\n",
    "def second_highest(list_of_nos):\n",
    "    for i in range(len(list_of_nos)):\n",
    "        for j in range (i+1, len(list_of_nos)):\n",
    "            if list_of_nos[i] > list_of_nos[j]:\n",
    "                list_of_nos[i] ,list_of_nos[j] = list_of_nos[j] ,list_of_nos[i]\n",
    "    return list_of_nos[-2]  \n",
    "ans = second_highest(list_of_nos)\n",
    "print(f\"The second highest number is {ans}\")\n",
    "               \n",
    "            \n",
    "            \n",
    "            \n",
    "            "
   ]
  },
  {
   "cell_type": "code",
   "execution_count": 8,
   "metadata": {},
   "outputs": [
    {
     "name": "stdout",
     "output_type": "stream",
     "text": [
      "Input n : 8\n",
      "The 8 highest number is 6\n"
     ]
    }
   ],
   "source": [
    "# 6\n",
    "list_of_nos = [3,4,5,6,34,7,8,32,1,4,5,6,-1,21,90,12,-3]\n",
    "\n",
    "\n",
    "def n_highest(list_of_nos,n):\n",
    "    for i in range(len(list_of_nos)):\n",
    "        for j in range (i+1, len(list_of_nos)):\n",
    "            if list_of_nos[i] > list_of_nos[j]:\n",
    "                list_of_nos[i] ,list_of_nos[j] = list_of_nos[j] ,list_of_nos[i]\n",
    "    return list_of_nos[-n]  \n",
    "\n",
    "n = int(input(\"Input n : \"))\n",
    "\n",
    "ans = n_highest(list_of_nos,n)\n",
    "print(f\"The {n} highest number is {ans}\")\n",
    "\n"
   ]
  },
  {
   "cell_type": "code",
   "execution_count": 4,
   "metadata": {},
   "outputs": [
    {
     "name": "stdout",
     "output_type": "stream",
     "text": [
      "[2, 4, 6, 8, 12, 32, 4, 6]\n"
     ]
    }
   ],
   "source": [
    "#7\n",
    "\n",
    "list_of_nos = [1,2,3,4,5,6,7,8,12,32,4,5,6]\n",
    "even = list(filter(lambda x : x%2 == 0,list_of_nos))\n",
    "print(even)"
   ]
  },
  {
   "cell_type": "code",
   "execution_count": 5,
   "metadata": {},
   "outputs": [
    {
     "name": "stdout",
     "output_type": "stream",
     "text": [
      "[1, 3, 5, 7, 5]\n"
     ]
    }
   ],
   "source": [
    "#8\n",
    "\n",
    "list_of_nos = [1,2,3,4,5,6,7,8,12,32,4,5,6]\n",
    "odd = list(filter(lambda x : x%2 != 0,list_of_nos))\n",
    "print(odd)"
   ]
  },
  {
   "cell_type": "code",
   "execution_count": 27,
   "metadata": {},
   "outputs": [
    {
     "name": "stdout",
     "output_type": "stream",
     "text": [
      "[[1, 23, 2], [1, 2], 'aa', 1]\n"
     ]
    }
   ],
   "source": [
    "#9\n",
    "\n",
    "empty_list =[[],[1,23,2],[],[1,2],'aa',1]\n",
    "\n",
    "for i in (empty_list):\n",
    "    if type(i) == list:\n",
    "        if len(i) == 0:\n",
    "            \n",
    "            empty_list.remove(i)\n",
    "            \n",
    "print(empty_list)\n",
    "        "
   ]
  },
  {
   "cell_type": "code",
   "execution_count": 29,
   "metadata": {},
   "outputs": [
    {
     "name": "stdout",
     "output_type": "stream",
     "text": [
      "['the', [], [1, 2, 3], ['the', 'test', 1], (1, 2, 3)]\n"
     ]
    }
   ],
   "source": [
    "#10\n",
    "\n",
    "list1 = [\"the\",[],[1,2,3],[\"the\",\"test\",1],(1,2,3)]\n",
    "copy= []\n",
    "\n",
    "for i in list1:\n",
    "    copy.append(i)\n",
    "    \n",
    "print(copy)"
   ]
  },
  {
   "cell_type": "code",
   "execution_count": 32,
   "metadata": {},
   "outputs": [
    {
     "name": "stdout",
     "output_type": "stream",
     "text": [
      "{'the': 2, 1: 1, 2: 2, 3: 2, 4: 1, 5: 1}\n"
     ]
    }
   ],
   "source": [
    "# 11\n",
    "\n",
    "list1 = [\"the\",1,2,3,2,3,4,5,\"the\"]\n",
    "occ ={}\n",
    "\n",
    "for i in list1:\n",
    "    if i in occ:\n",
    "        occ[i] = occ[i] +1\n",
    "    else:\n",
    "        occ[i] = 1\n",
    "        \n",
    "print(occ)\n"
   ]
  },
  {
   "cell_type": "code",
   "execution_count": null,
   "metadata": {},
   "outputs": [],
   "source": []
  }
 ],
 "metadata": {
  "kernelspec": {
   "display_name": "Python 3",
   "language": "python",
   "name": "python3"
  },
  "language_info": {
   "codemirror_mode": {
    "name": "ipython",
    "version": 3
   },
   "file_extension": ".py",
   "mimetype": "text/x-python",
   "name": "python",
   "nbconvert_exporter": "python",
   "pygments_lexer": "ipython3",
   "version": "3.7.6"
  }
 },
 "nbformat": 4,
 "nbformat_minor": 4
}
