{
 "cells": [
  {
   "cell_type": "code",
   "execution_count": 1,
   "metadata": {},
   "outputs": [],
   "source": [
    "# 1.\tWrite a Python program to convert kilometers to miles?\n",
    "# 2.\tWrite a Python program to convert Celsius to Fahrenheit?\n",
    "# 3.\tWrite a Python program to display calendar?\n",
    "# 4.\tWrite a Python program to solve quadratic equation?\n",
    "# 5.\tWrite a Python program to swap two variables without temp variable?\n"
   ]
  },
  {
   "cell_type": "code",
   "execution_count": 2,
   "metadata": {},
   "outputs": [
    {
     "name": "stdout",
     "output_type": "stream",
     "text": [
      "Please give km1\n",
      "1 Km is equal to 0.621371 miles\n"
     ]
    }
   ],
   "source": [
    "#Task 1\n",
    "\n",
    "a = int(input(\"Please give km\"))\n",
    "\n",
    "print (f\"{a} Km is equal to {0.621371*a} miles\")"
   ]
  },
  {
   "cell_type": "code",
   "execution_count": 4,
   "metadata": {},
   "outputs": [
    {
     "name": "stdout",
     "output_type": "stream",
     "text": [
      "Please give celsius : 12\n",
      "12 Celsius is equal to 53.6 Fahrenheit\n"
     ]
    }
   ],
   "source": [
    "#Task 2\n",
    "\n",
    "a = int(input(\"Please give celsius : \"))\n",
    "\n",
    "print (f\"{a} Celsius is equal to {a*9/5 + 32} Fahrenheit\")"
   ]
  },
  {
   "cell_type": "code",
   "execution_count": 8,
   "metadata": {},
   "outputs": [
    {
     "name": "stdout",
     "output_type": "stream",
     "text": [
      "Give year : 23\n",
      "Give month : 01\n",
      "     January 23\n",
      "Mo Tu We Th Fr Sa Su\n",
      "                   1\n",
      " 2  3  4  5  6  7  8\n",
      " 9 10 11 12 13 14 15\n",
      "16 17 18 19 20 21 22\n",
      "23 24 25 26 27 28 29\n",
      "30 31\n",
      "\n"
     ]
    }
   ],
   "source": [
    "# Task 3\n",
    "\n",
    "import calendar\n",
    "\n",
    "year= int(input(\"Give year : \"))\n",
    "month = int (input(\"Give month : \"))\n",
    "\n",
    "print(calendar.month(year,month))"
   ]
  },
  {
   "cell_type": "code",
   "execution_count": 9,
   "metadata": {},
   "outputs": [
    {
     "name": "stdout",
     "output_type": "stream",
     "text": [
      "Enter a : 1\n",
      "Enter b : 2\n",
      "Enter c : 3\n",
      "Solution to the equations are (-0.9999999999999999+1.4142135623730951j) and (-0.9999999999999999+1.4142135623730951j)\n"
     ]
    }
   ],
   "source": [
    "# Task 4\n",
    "#ax2 + bx + c = 0\n",
    "\n",
    "a = int(input(\"Enter a : \"))\n",
    "b = int(input(\"Enter b : \"))\n",
    "c = int(input(\"Enter c : \"))\n",
    "\n",
    "# calculate the discriminant\n",
    "d = (b**2) - (4*a*c)\n",
    "\n",
    "sol1 = (-b+d**.5)/(2*a)\n",
    "sol2 = (-b+d**.5)/(2*a)\n",
    "\n",
    "print(f\"Solution to the equations are {sol1} and {sol2}\")"
   ]
  },
  {
   "cell_type": "code",
   "execution_count": 14,
   "metadata": {},
   "outputs": [
    {
     "name": "stdout",
     "output_type": "stream",
     "text": [
      "5 10\n"
     ]
    }
   ],
   "source": [
    "# Task 5\n",
    "\n",
    "x = 10\n",
    "y =5\n",
    "\n",
    "#method 1\n",
    "#x,y = y,x\n",
    "\n",
    "#method 2\n",
    "x = x+y\n",
    "y = x-y \n",
    "x = x-y\n",
    "\n",
    "print(x, y)"
   ]
  },
  {
   "cell_type": "code",
   "execution_count": null,
   "metadata": {},
   "outputs": [],
   "source": []
  }
 ],
 "metadata": {
  "kernelspec": {
   "display_name": "Python 3",
   "language": "python",
   "name": "python3"
  },
  "language_info": {
   "codemirror_mode": {
    "name": "ipython",
    "version": 3
   },
   "file_extension": ".py",
   "mimetype": "text/x-python",
   "name": "python",
   "nbconvert_exporter": "python",
   "pygments_lexer": "ipython3",
   "version": "3.7.6"
  }
 },
 "nbformat": 4,
 "nbformat_minor": 4
}
