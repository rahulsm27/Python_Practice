{
 "cells": [
  {
   "cell_type": "code",
   "execution_count": 1,
   "metadata": {},
   "outputs": [],
   "source": [
    "# 1.\tWrite a Python Program to Add Two Matrices?\n",
    "# 2.\tWrite a Python Program to Multiply Two Matrices?\n",
    "# 3.\tWrite a Python Program to Transpose a Matrix?\n",
    "# 4.\tWrite a Python Program to Sort Words in Alphabetic Order?\n",
    "# 5.\tWrite a Python Program to Remove Punctuation From a String?\n"
   ]
  },
  {
   "cell_type": "code",
   "execution_count": 2,
   "metadata": {},
   "outputs": [],
   "source": [
    "import re\n",
    "import numpy as np"
   ]
  },
  {
   "cell_type": "code",
   "execution_count": 19,
   "metadata": {},
   "outputs": [
    {
     "name": "stdout",
     "output_type": "stream",
     "text": [
      "[[ 2.  4.  6.  8. 10.]\n",
      " [12. 14. 16. 18. 20.]\n",
      " [22. 24. 26. 28. 30.]\n",
      " [32. 34. 36. 38. 40.]]\n"
     ]
    }
   ],
   "source": [
    "# Task 1\n",
    "\n",
    "a = np.arange(1,21).reshape(4,5)\n",
    "b = np.arange(1,21).reshape(4,5)\n",
    "ans = np.zeros((4,5))\n",
    "\n",
    "for i in range(a.shape[0]):\n",
    "    for j in range(a.shape[1]):\n",
    "        ans[i][j] = a[i][j] + b[i][j]\n",
    "print(ans)    \n",
    "    \n",
    "    "
   ]
  },
  {
   "cell_type": "code",
   "execution_count": 20,
   "metadata": {},
   "outputs": [
    {
     "name": "stdout",
     "output_type": "stream",
     "text": [
      "[[  1.   4.   9.  16.  25.]\n",
      " [ 36.  49.  64.  81. 100.]\n",
      " [121. 144. 169. 196. 225.]\n",
      " [256. 289. 324. 361. 400.]]\n"
     ]
    }
   ],
   "source": [
    "# Task 2\n",
    "\n",
    "a = np.arange(1,21).reshape(4,5)\n",
    "b = np.arange(1,21).reshape(4,5)\n",
    "ans = np.zeros((4,5))\n",
    "\n",
    "for i in range(a.shape[0]):\n",
    "    for j in range(a.shape[1]):\n",
    "        ans[i][j] = a[i][j] * b[i][j]\n",
    "print(ans)    \n",
    "    "
   ]
  },
  {
   "cell_type": "code",
   "execution_count": 38,
   "metadata": {},
   "outputs": [
    {
     "name": "stdout",
     "output_type": "stream",
     "text": [
      "[[ 1  2  3  4  5]\n",
      " [ 6  7  8  9 10]\n",
      " [11 12 13 14 15]\n",
      " [16 17 18 19 20]]\n",
      "[[ 1  6 11 16]\n",
      " [ 2  7 12 17]\n",
      " [ 3  8 13 18]\n",
      " [ 4  9 14 19]\n",
      " [ 5 10 15 20]]\n"
     ]
    }
   ],
   "source": [
    "#Task 3\n",
    "a = np.arange(1,21).reshape(4,5)\n",
    "print (a)\n",
    "#np.array()\n",
    "\n",
    "b= [[a[j][i] for j in range(a.shape[0])] for i in range(a.shape[1])]\n",
    "print (np.array(b))"
   ]
  },
  {
   "cell_type": "code",
   "execution_count": 39,
   "metadata": {},
   "outputs": [
    {
     "name": "stdout",
     "output_type": "stream",
     "text": [
      "Kindly input string to be sorted : the only way to a\n",
      "['a', 'only', 'the', 'to', 'way']\n"
     ]
    }
   ],
   "source": [
    "#Task 4\n",
    "\n",
    "input_string = input(\"Kindly input string to be sorted : \")\n",
    "a = input_string.split()\n",
    "a.sort()\n",
    "\n",
    "print(a)"
   ]
  },
  {
   "cell_type": "code",
   "execution_count": 11,
   "metadata": {},
   "outputs": [
    {
     "data": {
      "text/plain": [
       "'Hi this isa  a test for  removing punctuation'"
      ]
     },
     "execution_count": 11,
     "metadata": {},
     "output_type": "execute_result"
    }
   ],
   "source": [
    "# Task 5\n",
    "input_string = \"Hi this is!a ! a test for , removing punctuation\"\n",
    "re.sub('[!@#$%;^,&*()]','' ,input_string)"
   ]
  },
  {
   "cell_type": "code",
   "execution_count": 10,
   "metadata": {},
   "outputs": [
    {
     "data": {
      "text/plain": [
       "4"
      ]
     },
     "execution_count": 10,
     "metadata": {},
     "output_type": "execute_result"
    }
   ],
   "source": [
    "a.shape[0]"
   ]
  },
  {
   "cell_type": "code",
   "execution_count": null,
   "metadata": {},
   "outputs": [],
   "source": []
  }
 ],
 "metadata": {
  "kernelspec": {
   "display_name": "Python 3",
   "language": "python",
   "name": "python3"
  },
  "language_info": {
   "codemirror_mode": {
    "name": "ipython",
    "version": 3
   },
   "file_extension": ".py",
   "mimetype": "text/x-python",
   "name": "python",
   "nbconvert_exporter": "python",
   "pygments_lexer": "ipython3",
   "version": "3.7.6"
  }
 },
 "nbformat": 4,
 "nbformat_minor": 4
}
