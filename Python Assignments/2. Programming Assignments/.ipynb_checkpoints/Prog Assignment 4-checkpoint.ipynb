{
 "cells": [
  {
   "cell_type": "code",
   "execution_count": 1,
   "metadata": {},
   "outputs": [],
   "source": [
    "# 1. Write a Python Program to Find the Factorial of a Number?\n",
    "# 2. Write a Python Program to Display the multiplication Table?\n",
    "# 3. Write a Python Program to Print the Fibonacci sequence?\n",
    "# 4. Write a Python Program to Check Armstrong Number?\n",
    "# 5. Write a Python Program to Find Armstrong Number in an Interval?\n",
    "# 6. Write a Python Program to Find the Sum of Natural Numbers?"
   ]
  },
  {
   "cell_type": "code",
   "execution_count": 4,
   "metadata": {},
   "outputs": [
    {
     "name": "stdout",
     "output_type": "stream",
     "text": [
      "Enter number : 5\n",
      "Factorial of 5 is 120 \n"
     ]
    }
   ],
   "source": [
    "#1\n",
    "\n",
    "def fact(n):\n",
    "    if n == 0 or n == 1:\n",
    "        return n\n",
    "    else:\n",
    "        return n * fact(n-1)\n",
    "\n",
    "a = int(input(\"Enter number : \"))\n",
    "ans = fact(a)\n",
    "print (f\"Factorial of {a} is {ans} \")\n",
    "\n"
   ]
  },
  {
   "cell_type": "code",
   "execution_count": 6,
   "metadata": {},
   "outputs": [
    {
     "name": "stdout",
     "output_type": "stream",
     "text": [
      "Enter number : 90\n",
      "90 * 1 = 90\n",
      "90 * 2 = 180\n",
      "90 * 3 = 270\n",
      "90 * 4 = 360\n",
      "90 * 5 = 450\n",
      "90 * 6 = 540\n",
      "90 * 7 = 630\n",
      "90 * 8 = 720\n",
      "90 * 9 = 810\n",
      "90 * 10 = 900\n"
     ]
    }
   ],
   "source": [
    "# 2\n",
    "\n",
    "a = int(input(\"Enter number : \"))\n",
    "\n",
    "for i in range (1,11):\n",
    "    print (f\"{a} * {i} = {a*i}\")"
   ]
  },
  {
   "cell_type": "code",
   "execution_count": 8,
   "metadata": {},
   "outputs": [
    {
     "name": "stdout",
     "output_type": "stream",
     "text": [
      "Enter number : 9\n",
      "Fibonacci series of  9 is 34 \n"
     ]
    }
   ],
   "source": [
    "# 3\n",
    "\n",
    "def fib(n):\n",
    "    if n == 0 or n == 1:\n",
    "        return n\n",
    "    else:\n",
    "        return fib(n-1) + fib(n-2)\n",
    "\n",
    "a = int(input(\"Enter number : \"))\n",
    "ans = fib(a)\n",
    "print (f\"Fibonacci series of  {a} is {ans} \")"
   ]
  },
  {
   "cell_type": "code",
   "execution_count": 30,
   "metadata": {},
   "outputs": [
    {
     "name": "stdout",
     "output_type": "stream",
     "text": [
      "Enter number : 371\n",
      "Given number is armstrong number\n"
     ]
    }
   ],
   "source": [
    "# 4\n",
    "\n",
    "a = int(input(\"Enter number : \"))\n",
    "\n",
    "\n",
    "\n",
    "\n",
    "powof = len(str(a))\n",
    "sumof = 0\n",
    "\n",
    "x = a\n",
    "\n",
    "\n",
    "for i in range(powof):\n",
    "    \n",
    "    sumof  = sumof + (x%10) ** (powof)\n",
    "    x = x // 10\n",
    "\n",
    "if sumof == a:\n",
    "    print (\"Given number is armstrong number\")\n",
    "else:\n",
    "     print (\"Given number is not armstrong number\")\n",
    "        \n",
    "    "
   ]
  },
  {
   "cell_type": "code",
   "execution_count": 35,
   "metadata": {},
   "outputs": [
    {
     "name": "stdout",
     "output_type": "stream",
     "text": [
      "Enter number : 5000\n",
      "[1, 2, 3, 4, 5, 6, 7, 8, 9, 153, 370, 371, 407, 1634]\n"
     ]
    }
   ],
   "source": [
    "# 5\n",
    "\n",
    "def isarmstrong(a):\n",
    "    \n",
    "    powof = len(str(a))\n",
    "    sumof = 0\n",
    "    x = a\n",
    "\n",
    "\n",
    "    for i in range(powof):\n",
    "    \n",
    "        sumof  = sumof + (x%10) ** (powof)\n",
    "        x = x // 10\n",
    "    if sumof == a:\n",
    "        return True\n",
    "    else :\n",
    "        return False\n",
    "    \n",
    "a = int(input(\"Enter number : \"))\n",
    "\n",
    "listofnos = [i for i in range (1,a+1)]\n",
    "\n",
    "ans = list(filter(isarmstrong,listofnos))\n",
    "\n",
    "print(ans)\n"
   ]
  },
  {
   "cell_type": "code",
   "execution_count": 37,
   "metadata": {},
   "outputs": [
    {
     "name": "stdout",
     "output_type": "stream",
     "text": [
      "Enter number : 100\n",
      "The sum of natural numbers is 5050\n"
     ]
    }
   ],
   "source": [
    "# 6\n",
    "\n",
    "def sumofnatural(n):\n",
    "    if n == 1:\n",
    "        return n\n",
    "    else:\n",
    "        return n + sumofnatural(n-1)\n",
    "a = int(input(\"Enter number : \")) \n",
    "ans = sumofnatural(a)\n",
    "print (f\"The sum of natural numbers is {ans}\")"
   ]
  },
  {
   "cell_type": "code",
   "execution_count": null,
   "metadata": {},
   "outputs": [],
   "source": []
  }
 ],
 "metadata": {
  "kernelspec": {
   "display_name": "Python 3",
   "language": "python",
   "name": "python3"
  },
  "language_info": {
   "codemirror_mode": {
    "name": "ipython",
    "version": 3
   },
   "file_extension": ".py",
   "mimetype": "text/x-python",
   "name": "python",
   "nbconvert_exporter": "python",
   "pygments_lexer": "ipython3",
   "version": "3.7.6"
  }
 },
 "nbformat": 4,
 "nbformat_minor": 4
}
