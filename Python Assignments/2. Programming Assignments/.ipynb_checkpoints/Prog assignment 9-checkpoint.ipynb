{
 "cells": [
  {
   "cell_type": "code",
   "execution_count": null,
   "metadata": {},
   "outputs": [],
   "source": [
    "# 1.\tWrite a Python program to check if the given number is a Disarium Number?\n",
    "# 2.\tWrite a Python program to print all disarium numbers between 1 to 100?\n",
    "# 3.\tWrite a Python program to check if the given number is Happy Number?\n",
    "# 4.\tWrite a Python program to print all happy numbers between 1 and 100?\n",
    "# 5.\tWrite a Python program to determine whether the given number is a Harshad Number?\n",
    "# 6.\tWrite a Python program to print all pronic numbers between 1 and 100?\n"
   ]
  }
 ],
 "metadata": {
  "kernelspec": {
   "display_name": "Python 3",
   "language": "python",
   "name": "python3"
  },
  "language_info": {
   "codemirror_mode": {
    "name": "ipython",
    "version": 3
   },
   "file_extension": ".py",
   "mimetype": "text/x-python",
   "name": "python",
   "nbconvert_exporter": "python",
   "pygments_lexer": "ipython3",
   "version": "3.7.6"
  }
 },
 "nbformat": 4,
 "nbformat_minor": 4
}
