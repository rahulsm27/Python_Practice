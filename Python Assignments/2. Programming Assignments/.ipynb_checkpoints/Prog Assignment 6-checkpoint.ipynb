{
 "cells": [
  {
   "cell_type": "code",
   "execution_count": 1,
   "metadata": {},
   "outputs": [],
   "source": [
    "# 1.\tWrite a Python Program to Display Fibonacci Sequence Using Recursion?\n",
    "# 2.\tWrite a Python Program to Find Factorial of Number Using Recursion?\n",
    "# 3.\tWrite a Python Program to calculate your Body Mass Index?\n",
    "# 4.\tWrite a Python Program to calculate the natural logarithm of any number?\n",
    "# 5.\tWrite a Python Program for cube sum of first n natural numbers?\n"
   ]
  },
  {
   "cell_type": "code",
   "execution_count": 27,
   "metadata": {},
   "outputs": [
    {
     "name": "stdout",
     "output_type": "stream",
     "text": [
      "Enter the sequence9\n",
      "0\n",
      "1\n",
      "1\n",
      "2\n",
      "3\n",
      "5\n",
      "8\n",
      "13\n",
      "21\n",
      "34\n"
     ]
    }
   ],
   "source": [
    "#1\n",
    "def fib(n):\n",
    "    if n == 0 or n == 1:\n",
    "        return n\n",
    "    else:\n",
    "        return fib(n-1) + fib(n-2)\n",
    "        \n",
    "a = int(input(\"Enter the sequence\"))\n",
    "    \n",
    "for i in range (a+1):\n",
    "    \n",
    "    print ( fib(i))"
   ]
  },
  {
   "cell_type": "code",
   "execution_count": 28,
   "metadata": {},
   "outputs": [
    {
     "name": "stdout",
     "output_type": "stream",
     "text": [
      "Enter number : 9\n",
      "Factorial of 9 is 362880 \n"
     ]
    }
   ],
   "source": [
    "#2\n",
    "\n",
    "def fact(n):\n",
    "    if n == 0 or n == 1:\n",
    "        return n\n",
    "    else:\n",
    "        return n * fact(n-1)\n",
    "\n",
    "a = int(input(\"Enter number : \"))\n",
    "ans = fact(a)\n",
    "print (f\"Factorial of {a} is {ans} \")\n"
   ]
  },
  {
   "cell_type": "code",
   "execution_count": 30,
   "metadata": {},
   "outputs": [
    {
     "name": "stdout",
     "output_type": "stream",
     "text": [
      "Enter height in m : 1.35\n",
      "Enter weight in kg: 60\n",
      "BMI is 32.92181069958848\n"
     ]
    }
   ],
   "source": [
    "#3\n",
    "\n",
    "H = float(input(\"Enter height in m : \"))\n",
    "W = float(input(\"Enter weight in kg: \"))\n",
    "\n",
    "ans = W/(H**2)\n",
    "\n",
    "print(f\"BMI is {ans}\")"
   ]
  },
  {
   "cell_type": "code",
   "execution_count": 33,
   "metadata": {},
   "outputs": [
    {
     "name": "stdout",
     "output_type": "stream",
     "text": [
      "Enter number : 2.71\n",
      "BMI is 0.9969486348916096\n"
     ]
    }
   ],
   "source": [
    "# 4\n",
    "\n",
    "import math\n",
    "\n",
    "a = float(input(\"Enter number : \"))\n",
    "ans = math.log(a)\n",
    "print(f\"BMI is {ans}\")"
   ]
  },
  {
   "cell_type": "code",
   "execution_count": 37,
   "metadata": {},
   "outputs": [
    {
     "name": "stdout",
     "output_type": "stream",
     "text": [
      "Enter number : 9\n",
      "Cube sum is  1296\n"
     ]
    }
   ],
   "source": [
    "#5\n",
    "a = int(input(\"Enter number : \"))\n",
    "\n",
    "print(\"Cube sum is \",sum([i**3 for i in range(a)]))"
   ]
  },
  {
   "cell_type": "code",
   "execution_count": null,
   "metadata": {},
   "outputs": [],
   "source": []
  }
 ],
 "metadata": {
  "kernelspec": {
   "display_name": "Python 3",
   "language": "python",
   "name": "python3"
  },
  "language_info": {
   "codemirror_mode": {
    "name": "ipython",
    "version": 3
   },
   "file_extension": ".py",
   "mimetype": "text/x-python",
   "name": "python",
   "nbconvert_exporter": "python",
   "pygments_lexer": "ipython3",
   "version": "3.7.6"
  }
 },
 "nbformat": 4,
 "nbformat_minor": 4
}
