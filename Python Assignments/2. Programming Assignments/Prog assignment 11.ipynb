{
 "cells": [
  {
   "cell_type": "code",
   "execution_count": 1,
   "metadata": {},
   "outputs": [],
   "source": [
    "# 1.\tWrite a Python program to find words which are greater than given length k?\n",
    "# 2.\tWrite a Python program for removing i-th character from a string?\n",
    "# 3.\tWrite a Python program to split and join a string?\n",
    "# 4.\tWrite a Python to check if a given string is binary string or not?\n",
    "# 5.\tWrite a Python program to find uncommon words from two Strings?\n",
    "# 6.\tWrite a Python to find all duplicate characters in string?\n",
    "# 7.\tWrite a Python Program to check if a string contains any special character?\n"
   ]
  },
  {
   "cell_type": "code",
   "execution_count": 3,
   "metadata": {},
   "outputs": [
    {
     "name": "stdout",
     "output_type": "stream",
     "text": [
      "Give the input : the only way to check this is the\n",
      "Words greater than 3 length in the input string are ['only', 'check', 'this']\n"
     ]
    }
   ],
   "source": [
    "#1\n",
    "input_string = input(\"Give the input string : \")\n",
    "\n",
    "k = 3\n",
    "string_list = input_string.split()\n",
    "ans = []\n",
    "\n",
    "for i in string_list:\n",
    "    if len(i) > k:\n",
    "        ans.append(i)\n",
    "        \n",
    "print (f\"Words greater than {k} length in the input string are {ans}\")"
   ]
  },
  {
   "cell_type": "code",
   "execution_count": 8,
   "metadata": {},
   "outputs": [
    {
     "name": "stdout",
     "output_type": "stream",
     "text": [
      "Give the input string : athath jakdj kad\n",
      "Give the character position to be removed : 4\n",
      "String after removing 4th character is  athth jakdj kad\n"
     ]
    }
   ],
   "source": [
    "#2\n",
    "\n",
    "input_string = input(\"Give the input string : \")\n",
    "k = int(input(\"Give the character position to be removed : \"))\n",
    "new_string = ''\n",
    "\n",
    "for p,i in enumerate(input_string,1):\n",
    "    if p == k:\n",
    "        pass\n",
    "    else:\n",
    "        new_string  = new_string + i\n",
    "        \n",
    "        \n",
    "print(f\"String after removing {k}th character is \", new_string)\n",
    "\n",
    "\n"
   ]
  },
  {
   "cell_type": "code",
   "execution_count": 24,
   "metadata": {},
   "outputs": [
    {
     "name": "stdout",
     "output_type": "stream",
     "text": [
      "['the', 'only', 'way', 'to', 'be']\n",
      "the only way\n"
     ]
    }
   ],
   "source": [
    "# 3.\tWrite a Python program to split and join a string?\n",
    "\n",
    "def split_stg(s,k):\n",
    "    final = []\n",
    "    temp = \"\"\n",
    "    for i in s:\n",
    "        \n",
    "        if i == k:\n",
    "            final.append(temp)\n",
    "            temp = \"\"\n",
    "        else :\n",
    "            temp = temp + i\n",
    "            \n",
    "    final.append(temp)\n",
    "    return final\n",
    "\n",
    "\n",
    "\n",
    "ans = split_stg(\"the only way to be\",\" \")\n",
    "print(ans)\n",
    "            \n",
    "    \n",
    "def join_stg(s,k):\n",
    "    final = \"\"\n",
    "\n",
    "    for i in s:\n",
    "        final = final + i + k\n",
    "        \n",
    "    return final[:-1]\n",
    "\n",
    "\n",
    "\n",
    "ans = join_stg([\"the\",\"only\",\"way\"],\" \")\n",
    "print(ans)\n",
    "            \n",
    "    \n",
    "    \n",
    "    \n",
    "    "
   ]
  },
  {
   "cell_type": "code",
   "execution_count": 36,
   "metadata": {},
   "outputs": [
    {
     "name": "stdout",
     "output_type": "stream",
     "text": [
      "Give the input string : 1\n",
      "Input string is binary string\n"
     ]
    }
   ],
   "source": [
    "# 4\n",
    "\n",
    "input_string = input(\"Give the input string : \")\n",
    "\n",
    "ref1 = {'0','1'}\n",
    "ref2 ={'0'}\n",
    "ref3 = {'1'}\n",
    "ref4 ={'1','0'}\n",
    "\n",
    "check =set(input_string)\n",
    "#print(check)\n",
    "\n",
    "if check == ref1 or check == ref2 or check==ref3 or check==ref4:\n",
    "    print(\"Input string is binary string\")\n",
    "else :\n",
    "    print(\"Input string is not binary string\")\n"
   ]
  },
  {
   "cell_type": "code",
   "execution_count": 38,
   "metadata": {},
   "outputs": [
    {
     "name": "stdout",
     "output_type": "stream",
     "text": [
      "Give the input string 1 : check for common woreds\n",
      "Give the input string 2 : for words\n",
      "Uncommon words  ['common', 'check', 'words', 'woreds']\n"
     ]
    }
   ],
   "source": [
    "# 5\n",
    "s1 = input(\"Give the input string 1 : \")\n",
    "s2 = input(\"Give the input string 2 : \")\n",
    "\n",
    "l1 = s1.split()\n",
    "l2 = s2.split()\n",
    "\n",
    "final = []\n",
    "\n",
    "for i in l1:\n",
    "    if i not in l2:\n",
    "        final.append(i)\n",
    "        \n",
    "for i in l2:\n",
    "    if i not in l1:\n",
    "        final.append(i)\n",
    "        \n",
    "print(\"Uncommon words \", list(set(final)))\n",
    "        \n"
   ]
  },
  {
   "cell_type": "code",
   "execution_count": 43,
   "metadata": {},
   "outputs": [
    {
     "name": "stdout",
     "output_type": "stream",
     "text": [
      "Give the input string 1 : ee tt h i jkl\n",
      "['e', ' ', 't']\n"
     ]
    }
   ],
   "source": [
    "# 6\n",
    "\n",
    "s1 = input(\"Give the input string 1 : \")\n",
    "dup = {}\n",
    "\n",
    "for i in s1:\n",
    "    if i in dup:\n",
    "        dup[i] = dup[i] + 1\n",
    "    else:\n",
    "        dup[i] = 1\n",
    "        \n",
    "final_ans = [k for k,v in dup.items() if v >1]\n",
    "print(final_ans)\n"
   ]
  },
  {
   "cell_type": "code",
   "execution_count": 45,
   "metadata": {},
   "outputs": [
    {
     "name": "stdout",
     "output_type": "stream",
     "text": [
      "Give the input string 1 : dsafa 4 # lkdfjasl\n",
      "String contains special characters\n"
     ]
    }
   ],
   "source": [
    "#7\n",
    "\n",
    "s1 = input(\"Give the input string 1 : \")\n",
    "special = '@#!$%^&*'\n",
    "\n",
    "flag = False\n",
    "\n",
    "for i in s1:\n",
    "    if i in special:\n",
    "        flag = True\n",
    "        \n",
    "if flag:\n",
    "    print (\"String contains special characters\")\n",
    "else:\n",
    "    print(\"String does not contain special characters\")\n",
    "        \n",
    "        "
   ]
  },
  {
   "cell_type": "code",
   "execution_count": null,
   "metadata": {},
   "outputs": [],
   "source": []
  }
 ],
 "metadata": {
  "kernelspec": {
   "display_name": "Python 3",
   "language": "python",
   "name": "python3"
  },
  "language_info": {
   "codemirror_mode": {
    "name": "ipython",
    "version": 3
   },
   "file_extension": ".py",
   "mimetype": "text/x-python",
   "name": "python",
   "nbconvert_exporter": "python",
   "pygments_lexer": "ipython3",
   "version": "3.7.6"
  }
 },
 "nbformat": 4,
 "nbformat_minor": 4
}
